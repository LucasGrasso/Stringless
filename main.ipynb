{
 "cells": [
  {
   "cell_type": "code",
   "execution_count": 5,
   "metadata": {},
   "outputs": [],
   "source": [
    "import csv\n",
    "import serial\n",
    "import multiprocessing\n",
    "import winsound\n",
    "import os"
   ]
  },
  {
   "cell_type": "code",
   "execution_count": 6,
   "metadata": {},
   "outputs": [],
   "source": [
    "notas = {}\n",
    "\n",
    "with open('notes.csv', mode='r') as file:\n",
    "    reader = csv.reader(file)\n",
    "    notas = {rows[0]:rows[1] for rows in reader}\n",
    "\n",
    "keys = notas.keys()\n",
    "\n",
    "#notas"
   ]
  },
  {
   "cell_type": "code",
   "execution_count": 7,
   "metadata": {},
   "outputs": [],
   "source": [
    "serialPort = serial.Serial(port = \"COM3\", baudrate=9600,\n",
    "                           bytesize=8, timeout=2, stopbits=serial.STOPBITS_ONE)"
   ]
  },
  {
   "cell_type": "code",
   "execution_count": 8,
   "metadata": {},
   "outputs": [
    {
     "name": "stdout",
     "output_type": "stream",
     "text": [
      "notas/A1.wav\n",
      "notas/A1.wav\n",
      "notas/AS4.wav\n",
      "notas/A3.wav\n",
      "notas/GS2.wav\n",
      "notas/A1.wav\n",
      "notas/A1.wav\n",
      "notas/A2.wav\n",
      "notas/A3.wav\n",
      "notas/A1.wav\n",
      "notas/A1.wav\n",
      "notas/AS2.wav\n",
      "notas/B3.wav\n",
      "notas/GS4.wav\n",
      "notas/A3.wav\n",
      "notas/GS2.wav\n",
      "notas/A1.wav\n",
      "notas/B3.wav\n",
      "notas/A2.wav\n",
      "notas/B3.wav\n",
      "notas/B3.wav\n",
      "notas/B4.wav\n",
      "notas/B3.wav\n",
      "notas/B4.wav\n",
      "notas/B3.wav\n",
      "notas/B4.wav\n",
      "notas/B3.wav\n",
      "notas/B4.wav\n",
      "notas/DS1.wav\n",
      "notas/D2.wav\n",
      "notas/D2.wav\n"
     ]
    },
    {
     "ename": "SerialException",
     "evalue": "ClearCommError failed (PermissionError(13, 'Acceso denegado.', None, 5))",
     "output_type": "error",
     "traceback": [
      "\u001b[1;31m---------------------------------------------------------------------------\u001b[0m",
      "\u001b[1;31mSerialException\u001b[0m                           Traceback (most recent call last)",
      "\u001b[1;32mc:\\Users\\46288329\\Documents\\Stringless\\main.ipynb Cell 4'\u001b[0m in \u001b[0;36m<cell line: 1>\u001b[1;34m()\u001b[0m\n\u001b[0;32m      <a href='vscode-notebook-cell:/c%3A/Users/46288329/Documents/Stringless/main.ipynb#ch0000003?line=0'>1</a>\u001b[0m \u001b[39mwhile\u001b[39;00m(\u001b[39mTrue\u001b[39;00m):\n\u001b[1;32m----> <a href='vscode-notebook-cell:/c%3A/Users/46288329/Documents/Stringless/main.ipynb#ch0000003?line=1'>2</a>\u001b[0m     \u001b[39mif\u001b[39;00m(serialPort\u001b[39m.\u001b[39;49min_waiting \u001b[39m>\u001b[39m \u001b[39m0\u001b[39m):\n\u001b[0;32m      <a href='vscode-notebook-cell:/c%3A/Users/46288329/Documents/Stringless/main.ipynb#ch0000003?line=2'>3</a>\u001b[0m         \u001b[39m# Read data out of the buffer until a carraige return / new line is found\u001b[39;00m\n\u001b[0;32m      <a href='vscode-notebook-cell:/c%3A/Users/46288329/Documents/Stringless/main.ipynb#ch0000003?line=3'>4</a>\u001b[0m         serialString \u001b[39m=\u001b[39m serialPort\u001b[39m.\u001b[39mreadline()\u001b[39m.\u001b[39mdecode(\u001b[39m\"\u001b[39m\u001b[39mutf-8\u001b[39m\u001b[39m\"\u001b[39m)\n\u001b[0;32m      <a href='vscode-notebook-cell:/c%3A/Users/46288329/Documents/Stringless/main.ipynb#ch0000003?line=4'>5</a>\u001b[0m         serialString \u001b[39m=\u001b[39m serialString[\u001b[39m0\u001b[39m:\u001b[39m-\u001b[39m\u001b[39m2\u001b[39m]\n",
      "File \u001b[1;32mc:\\Python310\\lib\\site-packages\\serial\\serialwin32.py:259\u001b[0m, in \u001b[0;36mSerial.in_waiting\u001b[1;34m(self)\u001b[0m\n\u001b[0;32m    <a href='file:///c%3A/Python310/lib/site-packages/serial/serialwin32.py?line=256'>257</a>\u001b[0m comstat \u001b[39m=\u001b[39m win32\u001b[39m.\u001b[39mCOMSTAT()\n\u001b[0;32m    <a href='file:///c%3A/Python310/lib/site-packages/serial/serialwin32.py?line=257'>258</a>\u001b[0m \u001b[39mif\u001b[39;00m \u001b[39mnot\u001b[39;00m win32\u001b[39m.\u001b[39mClearCommError(\u001b[39mself\u001b[39m\u001b[39m.\u001b[39m_port_handle, ctypes\u001b[39m.\u001b[39mbyref(flags), ctypes\u001b[39m.\u001b[39mbyref(comstat)):\n\u001b[1;32m--> <a href='file:///c%3A/Python310/lib/site-packages/serial/serialwin32.py?line=258'>259</a>\u001b[0m     \u001b[39mraise\u001b[39;00m SerialException(\u001b[39m\"\u001b[39m\u001b[39mClearCommError failed (\u001b[39m\u001b[39m{!r}\u001b[39;00m\u001b[39m)\u001b[39m\u001b[39m\"\u001b[39m\u001b[39m.\u001b[39mformat(ctypes\u001b[39m.\u001b[39mWinError()))\n\u001b[0;32m    <a href='file:///c%3A/Python310/lib/site-packages/serial/serialwin32.py?line=259'>260</a>\u001b[0m \u001b[39mreturn\u001b[39;00m comstat\u001b[39m.\u001b[39mcbInQue\n",
      "\u001b[1;31mSerialException\u001b[0m: ClearCommError failed (PermissionError(13, 'Acceso denegado.', None, 5))"
     ]
    }
   ],
   "source": [
    "while(True):\n",
    "    if(serialPort.in_waiting > 0):\n",
    "        # Read data out of the buffer until a carraige return / new line is found\n",
    "        serialString = serialPort.readline().decode(\"utf-8\")\n",
    "        serialString = serialString[0:-2]\n",
    "\n",
    "        #print(serialString)\n",
    "        # Convert binary string to int\n",
    "        parsedInt = int(serialString,2)\n",
    "        strParsedInt = str(parsedInt)\n",
    "        \n",
    "        if(strParsedInt in keys):\n",
    "            \n",
    "            # Play note\n",
    "            winsound.PlaySound(notas[strParsedInt], winsound.SND_FILENAME|winsound.SND_ASYNC) \n",
    "\n",
    "            print(notas[strParsedInt])"
   ]
  }
 ],
 "metadata": {
  "kernelspec": {
   "display_name": "Python 3.10.4 64-bit",
   "language": "python",
   "name": "python3"
  },
  "language_info": {
   "codemirror_mode": {
    "name": "ipython",
    "version": 3
   },
   "file_extension": ".py",
   "mimetype": "text/x-python",
   "name": "python",
   "nbconvert_exporter": "python",
   "pygments_lexer": "ipython3",
   "version": "3.10.4"
  },
  "orig_nbformat": 4,
  "vscode": {
   "interpreter": {
    "hash": "26de051ba29f2982a8de78e945f0abaf191376122a1563185a90213a26c5da77"
   }
  }
 },
 "nbformat": 4,
 "nbformat_minor": 2
}
