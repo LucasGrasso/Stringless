{
 "cells": [
  {
   "cell_type": "code",
   "execution_count": 43,
   "metadata": {},
   "outputs": [],
   "source": [
    "import csv\n",
    "import serial\n",
    "import multiprocessing\n",
    "import winsound"
   ]
  },
  {
   "cell_type": "code",
   "execution_count": 20,
   "metadata": {},
   "outputs": [
    {
     "data": {
      "text/plain": [
       "{'65537': 'notas/C4.wav',\n",
       " '65538': 'notas/C3.wav',\n",
       " '65540': 'notas/CS2.wav',\n",
       " '65544': 'notas/CS1.wav',\n",
       " '32769': 'notas/CS4.wav',\n",
       " '16385': 'notas/D4.wav',\n",
       " '16386': 'notas/D3.wav',\n",
       " '16388': 'notas/D2.wav',\n",
       " '16392': 'notas/D1.wav',\n",
       " '8193': 'notas/DS4.wav',\n",
       " '4097': 'notas/E4.wav',\n",
       " '8196': 'notas/DS2.wav',\n",
       " '8200': 'notas/DS1.wav',\n",
       " '4098': 'notas/E3.wav',\n",
       " '4100': 'notas/E2.wav',\n",
       " '4104': 'notas/E1.wav',\n",
       " '2049': 'notas/F4.wav',\n",
       " '2050': 'notas/F3.wav',\n",
       " '2052': 'notas/F2.wav',\n",
       " '2056': 'notas/F1.wav',\n",
       " '1025': 'notas/FS4.wav',\n",
       " '513': 'notas/G4.wav',\n",
       " '1028': 'notas/FS2.wav',\n",
       " '1032': 'notas/FS1.wav',\n",
       " '514': 'notas/G3.wav',\n",
       " '516': 'notas/G2.wav',\n",
       " '520': 'notas/G1.wav',\n",
       " '257': 'notas/GS4.wav',\n",
       " '129': 'notas/A4.wav',\n",
       " '260': 'notas/GS2.wav',\n",
       " '264': 'notas/GS1.wav',\n",
       " '130': 'notas/A3.wav',\n",
       " '132': 'notas/A2.wav',\n",
       " '136': 'notas/A1.wav',\n",
       " '65': 'notas/AS4.wav',\n",
       " '33': 'notas/B4.wav',\n",
       " '68': 'notas/AS2.wav',\n",
       " '72': 'notas/AS1.wav',\n",
       " '34': 'notas/B3.wav',\n",
       " '36': 'notas/B2.wav',\n",
       " '40': 'notas/B1.wav'}"
      ]
     },
     "execution_count": 20,
     "metadata": {},
     "output_type": "execute_result"
    }
   ],
   "source": [
    "notas = {}\n",
    "\n",
    "with open('notas.csv', mode='r') as file:\n",
    "    reader = csv.reader(file)\n",
    "    notas = {rows[0]:rows[1] for rows in reader}\n",
    "\n",
    "notas"
   ]
  },
  {
   "cell_type": "code",
   "execution_count": 56,
   "metadata": {},
   "outputs": [],
   "source": [
    "p = multiprocessing.Process(target=winsound.PlaySound, args=(notas[str(72)], winsound.SND_FILENAME|winsound.SND_NOWAIT))\n",
    "p.start()\n",
    "p = multiprocessing.Process(target=winsound.PlaySound, args=(notas[str(40)], winsound.SND_FILENAME|winsound.SND_NOWAIT))\n",
    "p.start()"
   ]
  },
  {
   "cell_type": "code",
   "execution_count": null,
   "metadata": {},
   "outputs": [],
   "source": [
    "serialPort = serial.Serial(port = \"COM3\", baudrate=9600,\n",
    "                           bytesize=8, timeout=2, stopbits=serial.STOPBITS_ONE)"
   ]
  },
  {
   "cell_type": "code",
   "execution_count": null,
   "metadata": {},
   "outputs": [],
   "source": [
    "while(True):\n",
    "    if(serialPort.in_waiting > 0):\n",
    "        # Read data out of the buffer until a carraige return / new line is found\n",
    "        serialString = serialPort.readline()\n",
    "\n",
    "        # Convert binary string to int\n",
    "        serialInt = int(serialString,2)\n",
    "\n",
    "        if(serialInt > 0):\n",
    "            # Play note\n",
    "            p = multiprocessing.Process(target=winsound.PlaySound, args=(notas[str(serialInt)], winsound.SND_FILENAME|winsound.SND_NOWAIT))\n",
    "            p.start()"
   ]
  }
 ],
 "metadata": {
  "interpreter": {
   "hash": "369f2c481f4da34e4445cda3fffd2e751bd1c4d706f27375911949ba6bb62e1c"
  },
  "kernelspec": {
   "display_name": "Python 3.10.5 64-bit (system)",
   "language": "python",
   "name": "python3"
  },
  "language_info": {
   "codemirror_mode": {
    "name": "ipython",
    "version": 3
   },
   "file_extension": ".py",
   "mimetype": "text/x-python",
   "name": "python",
   "nbconvert_exporter": "python",
   "pygments_lexer": "ipython3",
   "version": "3.10.5"
  },
  "orig_nbformat": 4
 },
 "nbformat": 4,
 "nbformat_minor": 2
}
