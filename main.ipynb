{
 "cells": [
  {
   "cell_type": "code",
   "execution_count": 10,
   "metadata": {},
   "outputs": [],
   "source": [
    "import csv\n",
    "import serial\n",
    "import multiprocessing\n",
    "import winsound"
   ]
  },
  {
   "cell_type": "code",
   "execution_count": 11,
   "metadata": {},
   "outputs": [],
   "source": [
    "notas = {}\n",
    "\n",
    "with open('notas.csv', mode='r') as file:\n",
    "    reader = csv.reader(file)\n",
    "    notas = {rows[0]:rows[1] for rows in reader}\n",
    "\n",
    "keys = notas.keys()\n",
    "\n",
    "#notas"
   ]
  },
  {
   "cell_type": "code",
   "execution_count": 15,
   "metadata": {},
   "outputs": [],
   "source": [
    "serialPort = serial.Serial(port = \"COM3\", baudrate=9600,\n",
    "                           bytesize=8, timeout=2, stopbits=serial.STOPBITS_ONE)"
   ]
  },
  {
   "cell_type": "code",
   "execution_count": null,
   "metadata": {},
   "outputs": [],
   "source": [
    "while(True):\n",
    "    if(serialPort.in_waiting > 0):\n",
    "        # Read data out of the buffer until a carraige return / new line is found\n",
    "        serialString = serialPort.readline().decode(\"utf-8\")\n",
    "        serialString = serialString[0:-2]\n",
    "\n",
    "        #print(serialString)\n",
    "        # Convert binary string to int\n",
    "        parsedInt = int(serialString,2)\n",
    "        strParsedInt = str(parsedInt)\n",
    "        \n",
    "        if(strParsedInt in keys):\n",
    "\n",
    "            # Play note\n",
    "            winsound.PlaySound(notas[strParsedInt], winsound.SND_FILENAME|winsound.SND_ASYNC) \n",
    "\n",
    "            print(notas[strParsedInt])"
   ]
  }
 ],
 "metadata": {
  "interpreter": {
   "hash": "369f2c481f4da34e4445cda3fffd2e751bd1c4d706f27375911949ba6bb62e1c"
  },
  "kernelspec": {
   "display_name": "Python 3.10.5 64-bit (system)",
   "language": "python",
   "name": "python3"
  },
  "language_info": {
   "codemirror_mode": {
    "name": "ipython",
    "version": 3
   },
   "file_extension": ".py",
   "mimetype": "text/x-python",
   "name": "python",
   "nbconvert_exporter": "python",
   "pygments_lexer": "ipython3",
   "version": "3.10.0"
  },
  "orig_nbformat": 4
 },
 "nbformat": 4,
 "nbformat_minor": 2
}
